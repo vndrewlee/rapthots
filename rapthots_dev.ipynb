{
 "cells": [
  {
   "cell_type": "code",
   "execution_count": 102,
   "metadata": {
    "collapsed": false
   },
   "outputs": [
    {
     "name": "stdout",
     "output_type": "stream",
     "text": [
      "5 reasons 2 Chainz wouldn't be here without Drake.\n"
     ]
    }
   ],
   "source": [
    "import json\n",
    "import spotipy\n",
    "import random\n",
    "import spotipy.util as util\n",
    "\n",
    "# open spotify credentials json\n",
    "with open('credentials.json') as data_file:    \n",
    "    credentials = json.load(data_file)\n",
    "\n",
    "# refresh token\n",
    "sp_token = spotipy.util.prompt_for_user_token(\n",
    "                            username='vndrewlee', \n",
    "                            client_id=credentials['sp_client_id'], \n",
    "                            client_secret=credentials['sp_client_secret'])\n",
    "\n",
    "# instantiate authorized spotify class\n",
    "sp = spotipy.Spotify(auth=sp_token)\n",
    "\n",
    "# get list of artists from rap caviar playlist\n",
    "rap_caviar = sp.user_playlist(user = 'spotify', playlist_id='5yolys8XG4q7YfjYGl5Lff')\n",
    "rap_caviar_list = rap_caviar['tracks']['items']\n",
    "artist_list = [track['track']['artists'][0]['name'] for track in rap_caviar_list]\n",
    "\n",
    "# make a dictionary of randomzied values to fill headline patterns\n",
    "nums = [5,7,9,11]\n",
    "fill_values = {\n",
    "    'rapper1': random.choice(artist_list), \n",
    "    'rapper2': random.choice(artist_list), \n",
    "    'oddnumber': random.choice(nums)}\n",
    "\n",
    "# headline patterns\n",
    "thenext = 'Is %(rapper1)s the next %(rapper2)s?' % fill_values\n",
    "oddways = '%(oddnumber)d reasons %(rapper1)s wouldn\\'t be here without %(rapper2)s.' %fill_values\n",
    "mixtape = '%(rapper1)s should make a mixtape with %(rapper2)s.' % fill_values\n",
    "everything = '%(rapper1)s is everything rn.' % fill_values\n",
    "\n",
    "# list of hydrated patterns\n",
    "possible_tweets = [thenext, oddways, mixtape, everything]\n",
    "\n",
    "tweet = random.choice(possible_tweets)\n",
    "\n",
    "import tweepy\n",
    "\n",
    "auth = tweepy.OAuthHandler(consumer_key=credentials['tw_key'], consumer_secret=credentials['tw_secret'])\n",
    "\n",
    "auth.set_access_token(\n",
    "    key=credentials['tw_access_token'], \n",
    "    secret=credentials['tw_access_token_secret'])\n",
    "\n",
    "tw = tweepy.API(auth)\n",
    "\n",
    "print(tweet)\n",
    "\n",
    "tw.update_status(status=tweet)"
   ]
  },
  {
   "cell_type": "code",
   "execution_count": null,
   "metadata": {
    "collapsed": true
   },
   "outputs": [],
   "source": []
  }
 ],
 "metadata": {
  "kernelspec": {
   "display_name": "Python 3",
   "language": "python",
   "name": "python3"
  },
  "language_info": {
   "codemirror_mode": {
    "name": "ipython",
    "version": 3
   },
   "file_extension": ".py",
   "mimetype": "text/x-python",
   "name": "python",
   "nbconvert_exporter": "python",
   "pygments_lexer": "ipython3",
   "version": "3.5.1"
  }
 },
 "nbformat": 4,
 "nbformat_minor": 0
}
