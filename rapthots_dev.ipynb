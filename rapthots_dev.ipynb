{
 "cells": [
  {
   "cell_type": "code",
   "execution_count": 286,
   "metadata": {
    "collapsed": false
   },
   "outputs": [
    {
     "name": "stdout",
     "output_type": "stream",
     "text": [
      "Fabolous should make a mixtape with D.R.A.M..\n"
     ]
    }
   ],
   "source": [
    "import json\n",
    "import spotipy\n",
    "import random\n",
    "\n",
    "# open spotify credentials json\n",
    "with open('spotify_credentials.json') as data_file:    \n",
    "    spotify_credentials = json.load(data_file)\n",
    "\n",
    "# spotify token has been pregenerated\n",
    "sp_token = spotify_credentials['token']\n",
    "\n",
    "# instantiate authorized spotify class\n",
    "sp = spotipy.Spotify(auth=sp_token)\n",
    "\n",
    "# get list of artists from rap caviar playlist\n",
    "rap_caviar = sp.user_playlist(user = 'spotify', playlist_id='5yolys8XG4q7YfjYGl5Lff')\n",
    "rap_caviar_list = rap_caviar['tracks']['items']\n",
    "artist_list = [track['track']['artists'][0]['name'] for track in rap_caviar_list]\n",
    "\n",
    "# make a dictionary of randomzied values to fill headline patterns\n",
    "nums = [5,7,9,11]\n",
    "fill_values = {\n",
    "    'rapper1': random.choice(artist_list), \n",
    "    'rapper2': random.choice(artist_list), \n",
    "    'oddnumber': random.choice(nums)}\n",
    "\n",
    "# headline patterns\n",
    "thenext = 'Is %(rapper1)s the next %(rapper2)s?' % fill_values\n",
    "oddways = '%(oddnumber)d reasons %(rapper1)s wouldn\\'t be here without %(rapper2)s.' %fill_values\n",
    "mixtape = '%(rapper1)s should make a mixtape with %(rapper2)s.' % fill_values\n",
    "everything = '%(rapper1)s is everything rn.' % fill_values\n",
    "\n",
    "# list of hydrated patterns\n",
    "possible_tweets = [thenext, oddways, mixtape, everything]\n",
    "\n",
    "print(random.choice(possible_tweets))"
   ]
  },
  {
   "cell_type": "code",
   "execution_count": 2,
   "metadata": {
    "collapsed": false
   },
   "outputs": [],
   "source": [
    "import tweepy"
   ]
  },
  {
   "cell_type": "code",
   "execution_count": null,
   "metadata": {
    "collapsed": true
   },
   "outputs": [],
   "source": [
    "tweepy"
   ]
  }
 ],
 "metadata": {
  "kernelspec": {
   "display_name": "Python 3",
   "language": "python",
   "name": "python3"
  },
  "language_info": {
   "codemirror_mode": {
    "name": "ipython",
    "version": 3
   },
   "file_extension": ".py",
   "mimetype": "text/x-python",
   "name": "python",
   "nbconvert_exporter": "python",
   "pygments_lexer": "ipython3",
   "version": "3.5.1"
  }
 },
 "nbformat": 4,
 "nbformat_minor": 0
}
